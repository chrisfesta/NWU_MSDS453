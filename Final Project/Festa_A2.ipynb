{
 "cells": [
  {
   "cell_type": "markdown",
   "metadata": {},
   "source": [
    "## Load Libraries"
   ]
  },
  {
   "cell_type": "code",
   "execution_count": 1,
   "metadata": {},
   "outputs": [
    {
     "name": "stdout",
     "output_type": "stream",
     "text": [
      "Requirement already satisfied: nltk in /opt/conda/lib/python3.7/site-packages (3.5)\n",
      "Requirement already satisfied: regex in /opt/conda/lib/python3.7/site-packages (from nltk) (2020.11.13)\n",
      "Requirement already satisfied: tqdm in /opt/conda/lib/python3.7/site-packages (from nltk) (4.56.0)\n",
      "Requirement already satisfied: click in /opt/conda/lib/python3.7/site-packages (from nltk) (7.1.2)\n",
      "Requirement already satisfied: joblib in /opt/conda/lib/python3.7/site-packages (from nltk) (1.0.0)\n",
      "Requirement already satisfied: gensim in /opt/conda/lib/python3.7/site-packages (3.8.3)\n",
      "Requirement already satisfied: scipy>=0.18.1 in /opt/conda/lib/python3.7/site-packages (from gensim) (1.6.0)\n",
      "Requirement already satisfied: six>=1.5.0 in /opt/conda/lib/python3.7/site-packages (from gensim) (1.15.0)\n",
      "Requirement already satisfied: smart-open>=1.8.1 in /opt/conda/lib/python3.7/site-packages (from gensim) (4.1.2)\n",
      "Requirement already satisfied: numpy>=1.11.3 in /opt/conda/lib/python3.7/site-packages (from gensim) (1.19.5)\n",
      "Requirement already satisfied: boilerpy3 in /opt/conda/lib/python3.7/site-packages (1.0.4)\n",
      "Requirement already satisfied: freediscovery in /opt/conda/lib/python3.7/site-packages (1.3.1)\n"
     ]
    }
   ],
   "source": [
    "!pip install nltk\n",
    "!pip install gensim\n",
    "!pip install boilerpy3\n",
    "!pip install freediscovery"
   ]
  },
  {
   "cell_type": "code",
   "execution_count": 2,
   "metadata": {},
   "outputs": [
    {
     "name": "stderr",
     "output_type": "stream",
     "text": [
      "[nltk_data] Downloading package stopwords to\n",
      "[nltk_data]     /home/jupyter/nltk_data...\n",
      "[nltk_data]   Package stopwords is already up-to-date!\n",
      "[nltk_data] Downloading package wordnet to /home/jupyter/nltk_data...\n",
      "[nltk_data]   Package wordnet is already up-to-date!\n"
     ]
    }
   ],
   "source": [
    "import nltk\n",
    "nltk.download('stopwords')\n",
    "nltk.download('wordnet')\n",
    "#!pip install boilerpy3\n",
    "#!pip install boilerpy3\n",
    "#!pip install -I gensim\n",
    "#!pip install -I smart_open\n",
    "#!pip install --upgrade smart_open\n",
    "\n",
    "import string\n",
    "import re\n",
    "import pickle\n",
    "from nltk.corpus import stopwords\n",
    "from nltk.stem import WordNetLemmatizer\n",
    "import numpy as np\n",
    "import pandas as pd\n",
    "from sklearn.feature_extraction.text import TfidfVectorizer, TfidfTransformer\n",
    "from gensim.models.doc2vec import Doc2Vec, TaggedDocument\n",
    "from collections import Counter, defaultdict\n",
    "import matplotlib.pyplot as plt\n",
    "import urllib\n",
    "from urllib.request import urlopen\n",
    "from boilerpy3 import extractors\n",
    "import seaborn as sns\n",
    "from IPython.display import display\n",
    "from IPython.display import HTML\n",
    "\n",
    "from sklearn.model_selection import train_test_split, GridSearchCV\n",
    "from sklearn.preprocessing import LabelEncoder\n",
    "#from sklearn.metrics import hamming_loss, rand_score, adjusted_rand_score\n",
    "from sklearn import metrics\n",
    "from sklearn.pipeline import Pipeline\n",
    "from sklearn.multiclass import OneVsRestClassifier\n",
    "from sklearn.naive_bayes import MultinomialNB\n",
    "\n",
    "from datetime import datetime\n",
    "import multiprocessing\n",
    "from itertools import chain \n",
    "\n",
    "from freediscovery.feature_weighting import SmartTfidfTransformer"
   ]
  },
  {
   "cell_type": "markdown",
   "metadata": {},
   "source": [
    "## Load Corpus"
   ]
  },
  {
   "cell_type": "code",
   "execution_count": 3,
   "metadata": {},
   "outputs": [],
   "source": [
    "def process_docs(filename, headers=None):\n",
    "    # Read in the entire corpus\n",
    "    corpus = pd.read_json(filename, lines=True)\n",
    "    \n",
    "    return corpus\n",
    "\n",
    "def clean_text(text, short_token_size = 4,):\n",
    "    # split the tokens by whitespace\n",
    "    tokens = text.split()\n",
    "    # prepare regex for char filtering\n",
    "    re_punc = re.compile('[%s]' % re.escape(string.punctuation))\n",
    "    # remove the punctuation from each word\n",
    "    tokens = [re_punc.sub('', w) for w in tokens]\n",
    "    # remove remaining tokens that are not alphabetic\n",
    "    tokens = [word for word in tokens if word.isalpha()]\n",
    "    # Make tokens lowercase\n",
    "    tokens = [word.lower() for word in tokens]\n",
    "    # filter out stop words\n",
    "    stop_words = set(stopwords.words('english'))\n",
    "    tokens = [w for w in tokens if not w in stop_words]\n",
    "    # filter out short tokens\n",
    "    tokens = [word for word in tokens if len(word) > short_token_size]\n",
    "    # Lemmatization to account for things like plurals\n",
    "    lem = WordNetLemmatizer()\n",
    "    lem = [lem.lemmatize(token) for token in tokens]\n",
    "    \n",
    "    tokens = ' '.join(tokens)\n",
    "    return tokens\n",
    "\n",
    "def get_article(link):\n",
    "    user_agent = 'Mozilla/5.0 (Windows; U; Windows NT 5.1; en-US; rv:1.9.0.7) Gecko/2009021910 Firefox/3.0.7'\n",
    "    headers={'User-Agent':user_agent,} \n",
    "    content = ''\n",
    "\n",
    "    try:\n",
    "        request=urllib.request.Request(link,None,headers) #The assembled request\n",
    "        response = urllib.request.urlopen(request, timeout=10)\n",
    "        data = response.read().decode('utf-8')\n",
    "        extractor = extractors.ArticleExtractor()\n",
    "        content = extractor.get_content(data)\n",
    "    except:\n",
    "        print('Unable to get content from: {}'.format(link))\n",
    "\n",
    "    return content\n",
    "\n",
    "\n",
    "def process_corpus(corpus):\n",
    "    for i in range(len(corpus)):\n",
    "        rowIndex = corpus.index[i]\n",
    "        \n",
    "        #corpus.loc[rowIndex, 'article_content'] = get_article(corpus['link'].iloc[i])\n",
    "        #corpus.loc[rowIndex, 'article_content'] = clean_text(corpus.loc[rowIndex, 'article_content'])\n",
    "        corpus.loc[rowIndex, 'headline'] = clean_text(corpus.loc[rowIndex, 'headline'])\n",
    "        corpus.loc[rowIndex, 'short_description'] = clean_text(corpus.loc[rowIndex, 'short_description'])\n",
    "        corpus.loc[rowIndex, 'text'] = corpus.loc[rowIndex, 'headline'] + ' ' + \\\n",
    "            corpus.loc[rowIndex, 'short_description']\n",
    "        \n",
    "        if (i % 1000 == 0):\n",
    "            print('Completed: {}'.format(i))\n",
    "    print('All Done!')\n",
    "    return corpus"
   ]
  },
  {
   "cell_type": "code",
   "execution_count": 4,
   "metadata": {},
   "outputs": [
    {
     "data": {
      "text/plain": [
       "False"
      ]
     },
     "execution_count": 4,
     "metadata": {},
     "output_type": "execute_result"
    }
   ],
   "source": [
    "'would' in stopwords.words('english')"
   ]
  },
  {
   "cell_type": "code",
   "execution_count": 5,
   "metadata": {},
   "outputs": [],
   "source": [
    "filename = 'News_Category_Dataset_v2.json'\n",
    "# load corpus\n",
    "corpus = process_docs(filename)"
   ]
  },
  {
   "cell_type": "code",
   "execution_count": 6,
   "metadata": {},
   "outputs": [],
   "source": [
    "in_scope = ['POLITICS', 'ENTERTAINMENT', 'ENTERTAINMENT', 'TRAVEL', 'STYLE & BEAUTY', 'PARENTING', 'HEALTHY LIVING', 'QUEER VOICES',\\\n",
    "           'FOOD & DRINK', 'BUSINESS']\n",
    "corpus = corpus.loc[corpus['category'].isin(in_scope)].copy()"
   ]
  },
  {
   "cell_type": "code",
   "execution_count": 7,
   "metadata": {},
   "outputs": [
    {
     "data": {
      "text/html": [
       "<div>\n",
       "<style scoped>\n",
       "    .dataframe tbody tr th:only-of-type {\n",
       "        vertical-align: middle;\n",
       "    }\n",
       "\n",
       "    .dataframe tbody tr th {\n",
       "        vertical-align: top;\n",
       "    }\n",
       "\n",
       "    .dataframe thead th {\n",
       "        text-align: right;\n",
       "    }\n",
       "</style>\n",
       "<table border=\"1\" class=\"dataframe\">\n",
       "  <thead>\n",
       "    <tr style=\"text-align: right;\">\n",
       "      <th></th>\n",
       "      <th>category</th>\n",
       "      <th>headline</th>\n",
       "      <th>authors</th>\n",
       "      <th>link</th>\n",
       "      <th>short_description</th>\n",
       "      <th>date</th>\n",
       "    </tr>\n",
       "  </thead>\n",
       "  <tbody>\n",
       "    <tr>\n",
       "      <th>1</th>\n",
       "      <td>ENTERTAINMENT</td>\n",
       "      <td>Will Smith Joins Diplo And Nicky Jam For The 2...</td>\n",
       "      <td>Andy McDonald</td>\n",
       "      <td>https://www.huffingtonpost.com/entry/will-smit...</td>\n",
       "      <td>Of course it has a song.</td>\n",
       "      <td>2018-05-26</td>\n",
       "    </tr>\n",
       "    <tr>\n",
       "      <th>2</th>\n",
       "      <td>ENTERTAINMENT</td>\n",
       "      <td>Hugh Grant Marries For The First Time At Age 57</td>\n",
       "      <td>Ron Dicker</td>\n",
       "      <td>https://www.huffingtonpost.com/entry/hugh-gran...</td>\n",
       "      <td>The actor and his longtime girlfriend Anna Ebe...</td>\n",
       "      <td>2018-05-26</td>\n",
       "    </tr>\n",
       "    <tr>\n",
       "      <th>3</th>\n",
       "      <td>ENTERTAINMENT</td>\n",
       "      <td>Jim Carrey Blasts 'Castrato' Adam Schiff And D...</td>\n",
       "      <td>Ron Dicker</td>\n",
       "      <td>https://www.huffingtonpost.com/entry/jim-carre...</td>\n",
       "      <td>The actor gives Dems an ass-kicking for not fi...</td>\n",
       "      <td>2018-05-26</td>\n",
       "    </tr>\n",
       "    <tr>\n",
       "      <th>4</th>\n",
       "      <td>ENTERTAINMENT</td>\n",
       "      <td>Julianna Margulies Uses Donald Trump Poop Bags...</td>\n",
       "      <td>Ron Dicker</td>\n",
       "      <td>https://www.huffingtonpost.com/entry/julianna-...</td>\n",
       "      <td>The \"Dietland\" actress said using the bags is ...</td>\n",
       "      <td>2018-05-26</td>\n",
       "    </tr>\n",
       "    <tr>\n",
       "      <th>5</th>\n",
       "      <td>ENTERTAINMENT</td>\n",
       "      <td>Morgan Freeman 'Devastated' That Sexual Harass...</td>\n",
       "      <td>Ron Dicker</td>\n",
       "      <td>https://www.huffingtonpost.com/entry/morgan-fr...</td>\n",
       "      <td>\"It is not right to equate horrific incidents ...</td>\n",
       "      <td>2018-05-26</td>\n",
       "    </tr>\n",
       "    <tr>\n",
       "      <th>...</th>\n",
       "      <td>...</td>\n",
       "      <td>...</td>\n",
       "      <td>...</td>\n",
       "      <td>...</td>\n",
       "      <td>...</td>\n",
       "      <td>...</td>\n",
       "    </tr>\n",
       "    <tr>\n",
       "      <th>200835</th>\n",
       "      <td>BUSINESS</td>\n",
       "      <td>Walmart Waving Goodbye To Some Greeters</td>\n",
       "      <td></td>\n",
       "      <td>https://www.huffingtonpost.comhttp://jobs.aol....</td>\n",
       "      <td>After 30 years, \"People Greeters\" will no long...</td>\n",
       "      <td>2012-01-28</td>\n",
       "    </tr>\n",
       "    <tr>\n",
       "      <th>200836</th>\n",
       "      <td>BUSINESS</td>\n",
       "      <td>At World Economic Forum, Fear of Global Contag...</td>\n",
       "      <td>Peter S. Goodman, Contributor\\nExecutive Busin...</td>\n",
       "      <td>https://www.huffingtonpost.com/entry/world-eco...</td>\n",
       "      <td>For decades, as crises have assailed developin...</td>\n",
       "      <td>2012-01-28</td>\n",
       "    </tr>\n",
       "    <tr>\n",
       "      <th>200837</th>\n",
       "      <td>BUSINESS</td>\n",
       "      <td>Positive Customer Experience: What's the Retur...</td>\n",
       "      <td>Ernan Roman, Contributor\\nPresident</td>\n",
       "      <td>https://www.huffingtonpost.com/entry/positive-...</td>\n",
       "      <td>\"Analysts at Adobe combined historical purchas...</td>\n",
       "      <td>2012-01-28</td>\n",
       "    </tr>\n",
       "    <tr>\n",
       "      <th>200838</th>\n",
       "      <td>ENTERTAINMENT</td>\n",
       "      <td>Sundance, Ice-T, and Shades of the American Ra...</td>\n",
       "      <td>Courtney Garcia, Contributor\\nI tell stories a...</td>\n",
       "      <td>https://www.huffingtonpost.com/entry/sundance-...</td>\n",
       "      <td>Representation of the collective diaspora has ...</td>\n",
       "      <td>2012-01-28</td>\n",
       "    </tr>\n",
       "    <tr>\n",
       "      <th>200839</th>\n",
       "      <td>ENTERTAINMENT</td>\n",
       "      <td>'Girl With the Dragon Tattoo' India Release Ca...</td>\n",
       "      <td></td>\n",
       "      <td>https://www.huffingtonpost.com/entry/girl-with...</td>\n",
       "      <td>\"Sony Pictures will not be releasing The Girl ...</td>\n",
       "      <td>2012-01-28</td>\n",
       "    </tr>\n",
       "  </tbody>\n",
       "</table>\n",
       "<p>102181 rows × 6 columns</p>\n",
       "</div>"
      ],
      "text/plain": [
       "             category                                           headline  \\\n",
       "1       ENTERTAINMENT  Will Smith Joins Diplo And Nicky Jam For The 2...   \n",
       "2       ENTERTAINMENT    Hugh Grant Marries For The First Time At Age 57   \n",
       "3       ENTERTAINMENT  Jim Carrey Blasts 'Castrato' Adam Schiff And D...   \n",
       "4       ENTERTAINMENT  Julianna Margulies Uses Donald Trump Poop Bags...   \n",
       "5       ENTERTAINMENT  Morgan Freeman 'Devastated' That Sexual Harass...   \n",
       "...               ...                                                ...   \n",
       "200835       BUSINESS            Walmart Waving Goodbye To Some Greeters   \n",
       "200836       BUSINESS  At World Economic Forum, Fear of Global Contag...   \n",
       "200837       BUSINESS  Positive Customer Experience: What's the Retur...   \n",
       "200838  ENTERTAINMENT  Sundance, Ice-T, and Shades of the American Ra...   \n",
       "200839  ENTERTAINMENT  'Girl With the Dragon Tattoo' India Release Ca...   \n",
       "\n",
       "                                                  authors  \\\n",
       "1                                           Andy McDonald   \n",
       "2                                              Ron Dicker   \n",
       "3                                              Ron Dicker   \n",
       "4                                              Ron Dicker   \n",
       "5                                              Ron Dicker   \n",
       "...                                                   ...   \n",
       "200835                                                      \n",
       "200836  Peter S. Goodman, Contributor\\nExecutive Busin...   \n",
       "200837                Ernan Roman, Contributor\\nPresident   \n",
       "200838  Courtney Garcia, Contributor\\nI tell stories a...   \n",
       "200839                                                      \n",
       "\n",
       "                                                     link  \\\n",
       "1       https://www.huffingtonpost.com/entry/will-smit...   \n",
       "2       https://www.huffingtonpost.com/entry/hugh-gran...   \n",
       "3       https://www.huffingtonpost.com/entry/jim-carre...   \n",
       "4       https://www.huffingtonpost.com/entry/julianna-...   \n",
       "5       https://www.huffingtonpost.com/entry/morgan-fr...   \n",
       "...                                                   ...   \n",
       "200835  https://www.huffingtonpost.comhttp://jobs.aol....   \n",
       "200836  https://www.huffingtonpost.com/entry/world-eco...   \n",
       "200837  https://www.huffingtonpost.com/entry/positive-...   \n",
       "200838  https://www.huffingtonpost.com/entry/sundance-...   \n",
       "200839  https://www.huffingtonpost.com/entry/girl-with...   \n",
       "\n",
       "                                        short_description       date  \n",
       "1                                Of course it has a song. 2018-05-26  \n",
       "2       The actor and his longtime girlfriend Anna Ebe... 2018-05-26  \n",
       "3       The actor gives Dems an ass-kicking for not fi... 2018-05-26  \n",
       "4       The \"Dietland\" actress said using the bags is ... 2018-05-26  \n",
       "5       \"It is not right to equate horrific incidents ... 2018-05-26  \n",
       "...                                                   ...        ...  \n",
       "200835  After 30 years, \"People Greeters\" will no long... 2012-01-28  \n",
       "200836  For decades, as crises have assailed developin... 2012-01-28  \n",
       "200837  \"Analysts at Adobe combined historical purchas... 2012-01-28  \n",
       "200838  Representation of the collective diaspora has ... 2012-01-28  \n",
       "200839  \"Sony Pictures will not be releasing The Girl ... 2012-01-28  \n",
       "\n",
       "[102181 rows x 6 columns]"
      ]
     },
     "execution_count": 7,
     "metadata": {},
     "output_type": "execute_result"
    }
   ],
   "source": [
    "corpus"
   ]
  },
  {
   "cell_type": "code",
   "execution_count": 8,
   "metadata": {},
   "outputs": [
    {
     "name": "stdout",
     "output_type": "stream",
     "text": [
      "Completed: 0\n",
      "Completed: 1000\n",
      "Completed: 2000\n",
      "Completed: 3000\n",
      "Completed: 4000\n",
      "Completed: 5000\n",
      "Completed: 6000\n",
      "Completed: 7000\n",
      "Completed: 8000\n",
      "Completed: 9000\n",
      "Completed: 10000\n",
      "Completed: 11000\n",
      "Completed: 12000\n",
      "Completed: 13000\n",
      "Completed: 14000\n",
      "Completed: 15000\n",
      "Completed: 16000\n",
      "Completed: 17000\n",
      "Completed: 18000\n",
      "Completed: 19000\n",
      "All Done!\n"
     ]
    }
   ],
   "source": [
    "#filename = 'News_Category_Dataset_v2.json'\n",
    "# load corpus\n",
    "#corpus = process_docs(filename)\n",
    "# fix label\n",
    "corpus.category = corpus.category.map(lambda x: \"WORLDPOST\" if x == \"THE WORLDPOST\" else x)\n",
    "\n",
    "# get the content of each article using the link and clean the content, headline, and short description\n",
    "# get 200 randomly sampled\n",
    "encoder = LabelEncoder()\n",
    "corpus['label'] = encoder.fit_transform(corpus['category'])\n",
    "corpus_enhanced = process_corpus(corpus.sample(n=20000, random_state=37))\n",
    "#corpus_enhanced = process_corpus(corpus)\n",
    "\n",
    "\n",
    "\n",
    "# pickle file for later\n",
    "pickle.dump(corpus, open('corpus_enhanced.p', 'wb'))"
   ]
  },
  {
   "cell_type": "code",
   "execution_count": 9,
   "metadata": {},
   "outputs": [],
   "source": [
    "corpus_d = corpus_enhanced.reset_index()"
   ]
  },
  {
   "cell_type": "code",
   "execution_count": 10,
   "metadata": {},
   "outputs": [
    {
     "data": {
      "text/plain": [
       "array(['POLITICS', 'FOOD & DRINK', 'TRAVEL', 'STYLE & BEAUTY',\n",
       "       'ENTERTAINMENT', 'HEALTHY LIVING', 'PARENTING', 'QUEER VOICES',\n",
       "       'BUSINESS'], dtype=object)"
      ]
     },
     "execution_count": 10,
     "metadata": {},
     "output_type": "execute_result"
    }
   ],
   "source": [
    "corpus_d['category'].unique()"
   ]
  },
  {
   "cell_type": "code",
   "execution_count": 11,
   "metadata": {},
   "outputs": [
    {
     "name": "stdout",
     "output_type": "stream",
     "text": [
      "X_train: 16000\n",
      "X_test 4000\n",
      "y_train: 16000\n",
      "y_test 4000\n"
     ]
    }
   ],
   "source": [
    "X = corpus_d['text']\n",
    "y = corpus_d['label']\n",
    "X_train, X_test, y_train, y_test = train_test_split(X, y, test_size=0.20, random_state=37)\n",
    "\n",
    "print('X_train: {}'.format (len(X_train)))\n",
    "print('X_test {}'.format (len(X_test)))\n",
    "print('y_train: {}'.format (len(y_train)))\n",
    "print('y_test {}'.format (len(y_test)))"
   ]
  },
  {
   "cell_type": "code",
   "execution_count": 12,
   "metadata": {},
   "outputs": [],
   "source": [
    "def create_dictionary(data, var_name):\n",
    "    # get token counts and list\n",
    "    tokens_dict = {}\n",
    "    for ix in data.index:\n",
    "        tokens_dict[ix] = {}\n",
    "        c = Counter(data[ix].split())\n",
    "        tokens_dict[ix]['tokens'] = list(c)\n",
    "        tokens_dict[ix]['token_cnt'] = dict(c)\n",
    "        \n",
    "    # get vocabulary\n",
    "    vocab = {}\n",
    "    token_threshold = 5\n",
    "    for doc in tokens_dict.keys():\n",
    "        vocab[doc] = [k for k, v in tokens_dict[doc]['token_cnt'].items() if v >= token_threshold]\n",
    "    vocab_list = list()\n",
    "    for doc in vocab.keys():\n",
    "        for word in vocab[doc]:\n",
    "            vocab_list.append(word)\n",
    "    vocab_list = list(np.unique(vocab_list))\n",
    "    print('{} Vocabulary Size: {}'.format(var_name, len(vocab_list)))\n",
    "    \n",
    "    output = {'text': data, 'tokens_dict': tokens_dict, 'vocab_list': vocab_list}\n",
    "    \n",
    "    return output"
   ]
  },
  {
   "cell_type": "code",
   "execution_count": 13,
   "metadata": {},
   "outputs": [
    {
     "name": "stdout",
     "output_type": "stream",
     "text": [
      "X_train Vocabulary Size: 25\n",
      "X_test Vocabulary Size: 7\n"
     ]
    }
   ],
   "source": [
    "X_train_data = create_dictionary(X_train, 'X_train')\n",
    "X_test_data = create_dictionary(X_test, 'X_test')"
   ]
  },
  {
   "cell_type": "markdown",
   "metadata": {},
   "source": [
    "## Analysis Functions"
   ]
  },
  {
   "cell_type": "code",
   "execution_count": 14,
   "metadata": {},
   "outputs": [],
   "source": [
    "from sklearn.cluster import KMeans\n",
    "from sklearn.decomposition import PCA\n",
    "\n",
    "def get_kmeans(X, y):\n",
    "    n_clusters = len(np.unique(y))\n",
    "    kmeans_model = KMeans(n_clusters=n_clusters, init='k-means++', max_iter=100000)\n",
    "    X_kmeans = kmeans_model.fit(X)\n",
    "    kmeans_labels = kmeans_model.labels_.tolist()\n",
    "    \n",
    "    return kmeans_model, kmeans_labels\n",
    "    \n",
    "def get_cluster_scatter_plot(X, kmeans_model, kmeans_labels, title):\n",
    "    pca = PCA(n_components=2).fit(X)\n",
    "    datapoint = pca.transform(X)\n",
    "\n",
    "    plt.figure(figsize=(10, 6))\n",
    "    label1 = ['#DFFF00', '#FFBF00', '#FF7F50', '#DE3163', '#9FE2BF', '#40E0D0', '#6495ED', '#CCCCFF', '#999999', '#0000FF']#, \"#0000FF\"]\n",
    "    color = [label1[i] for i in kmeans_labels]\n",
    "    scatter = plt.scatter(datapoint[:, 0], datapoint[:, 1], c=color)\n",
    "\n",
    "    centroids = kmeans_model.cluster_centers_\n",
    "    centroidpoint = pca.transform(centroids)\n",
    "    plt.scatter(centroidpoint[:, 0], centroidpoint[:, 1], marker='^', s=150, c='#000000')\n",
    "    plt.title(title + ' PCA Cluster Plot')\n",
    "    plt.show()\n",
    "    \n",
    "def evaluate_cluster_performance(model, X_train, y_train, X_test, y_test):\n",
    "    # train\n",
    "    y_train_pred = model.predict(X_train)\n",
    "    #print('hamming loss train: {}'.format(hamming_loss(y_train, y_train_pred)))\n",
    "    #print('train rand_score: {}'.format(metrics.rand_score(y_train, y_train_pred)))\n",
    "    print('train adjusted_rand_score: {}'.format(metrics.adjusted_rand_score(y_train, y_train_pred)))\n",
    "\n",
    "    # test\n",
    "    y_test_pred = model.predict(X_test)\n",
    "    #print('test rand_score: {}'.format(metrics.rand_score(y_test, y_test_pred)))\n",
    "    print('test adjusted_rand_score: {}'.format(metrics.adjusted_rand_score(y_test, y_test_pred)))"
   ]
  },
  {
   "cell_type": "code",
   "execution_count": 15,
   "metadata": {},
   "outputs": [
    {
     "data": {
      "text/plain": [
       "5862     michelle obamas inauguration wanting swing pho...\n",
       "5828     pixar kiddie packaging cringeworthy photoshop ...\n",
       "13469    great british baking judge berry arrested airp...\n",
       "2719     tyler chrissy teigen stars stella mccartneys p...\n",
       "17822    therapy couch bodies instinctively selfheal ch...\n",
       "                               ...                        \n",
       "11898    trump urges republican senators healthcare rep...\n",
       "4118     plane ticket found useful might passing along ...\n",
       "988      behind scenes fascinating controversial street...\n",
       "9036     observations roman observe million people beau...\n",
       "1935     coming immigration trumps america great degree...\n",
       "Name: text, Length: 16000, dtype: object"
      ]
     },
     "execution_count": 15,
     "metadata": {},
     "output_type": "execute_result"
    }
   ],
   "source": [
    "X_train_data['text']"
   ]
  },
  {
   "cell_type": "code",
   "execution_count": 16,
   "metadata": {},
   "outputs": [],
   "source": [
    "ngram_range = (1,3)"
   ]
  },
  {
   "cell_type": "code",
   "execution_count": 220,
   "metadata": {},
   "outputs": [],
   "source": [
    "label_indexes = {}\n",
    "for label in np.unique(y_train):\n",
    "    ix = y_train[y_train==label].index\n",
    "    label_indexes.update({label: {'name': encoder.inverse_transform([label])[0], 'indexes': ix}})"
   ]
  },
  {
   "cell_type": "markdown",
   "metadata": {},
   "source": [
    "## Manual Word Vector"
   ]
  },
  {
   "cell_type": "code",
   "execution_count": 240,
   "metadata": {},
   "outputs": [],
   "source": [
    "from sklearn.feature_extraction.text import CountVectorizer"
   ]
  },
  {
   "cell_type": "code",
   "execution_count": 64,
   "metadata": {},
   "outputs": [
    {
     "name": "stdout",
     "output_type": "stream",
     "text": [
      "Fitting 2 folds for each of 600 candidates, totalling 1200 fits\n"
     ]
    },
    {
     "name": "stderr",
     "output_type": "stream",
     "text": [
      "/opt/conda/lib/python3.7/site-packages/sklearn/model_selection/_search.py:921: UserWarning: One or more of the test scores are non-finite: [-84831.37989448 -87633.17157993 -87814.58610796  -8750.35338957\n",
      "  -8779.14162493  -8795.98573608   -904.34934673   -939.64976762\n",
      "   -929.99360581   -113.12823144   -113.05446464   -113.05760018\n",
      "      0.              0.              0.              0.\n",
      "      0.              0.              0.              0.\n",
      "      0.                     nan             nan             nan\n",
      "             nan             nan             nan             nan\n",
      "             nan             nan -85003.66220993 -87570.48678778\n",
      " -87614.55925398  -8685.24814557  -8909.84356581  -8952.35818183\n",
      "   -940.03323025   -935.3665087    -935.94083043   -113.14930104\n",
      "   -113.05446464   -113.03200302      0.              0.\n",
      "      0.              0.              0.              0.\n",
      "      0.              0.              0.                     nan\n",
      "             nan             nan             nan             nan\n",
      "             nan             nan             nan             nan\n",
      " -84663.93627409 -87197.76909435 -87738.14685825  -8810.38647182\n",
      "  -8816.88542621  -8866.43001685   -938.38748605   -933.93315227\n",
      "  -1030.64837294   -112.9433417    -113.05446464   -113.12823144\n",
      "      0.              0.              0.              0.\n",
      "      0.              0.              0.              0.\n",
      "      0.                     nan             nan             nan\n",
      "             nan             nan             nan             nan\n",
      "             nan             nan -85001.33061238 -87597.72003821\n",
      " -88154.2480403   -8647.83969528  -8824.81310435  -8728.92160823\n",
      "   -943.52811743   -963.17391357   -934.93430614   -113.21795069\n",
      "   -113.12823144   -112.94647724      0.              0.\n",
      "      0.              0.              0.              0.\n",
      "      0.              0.              0.                     nan\n",
      "             nan             nan             nan             nan\n",
      "             nan             nan             nan             nan\n",
      " -85029.90330018 -87377.80446142 -87858.8938581   -8698.36886722\n",
      "  -8779.42416133  -8859.08850134   -957.22198503   -935.37968693\n",
      "   -934.48566078   -113.05446464   -113.03200302   -113.05760018\n",
      "      0.              0.              0.              0.\n",
      "      0.              0.              0.              0.\n",
      "      0.                     nan             nan             nan\n",
      "             nan             nan             nan             nan\n",
      "             nan             nan -84936.77229321 -87690.58326888\n",
      " -88345.61364514  -8736.41130474  -8861.49049052  -8802.33542985\n",
      "   -909.4311041    -930.80537676   -992.21221171   -113.05760018\n",
      "   -113.06893037   -113.05446464      0.              0.\n",
      "      0.              0.              0.              0.\n",
      "      0.              0.              0.                     nan\n",
      "             nan             nan             nan             nan\n",
      "             nan             nan             nan             nan\n",
      " -84873.13028238 -87570.0279521  -88029.1920936   -8672.058046\n",
      "  -8798.34033193  -8772.34350378   -902.20682413   -933.16036185\n",
      "   -935.03575096   -113.15764945   -113.05446464   -113.14312596\n",
      "      0.              0.              0.              0.\n",
      "      0.              0.              0.              0.\n",
      "      0.                     nan             nan             nan\n",
      "             nan             nan             nan             nan\n",
      "             nan             nan -84883.66590235 -87689.0508145\n",
      " -87645.85808335  -8670.05782519  -8971.40870202  -8947.67334929\n",
      "   -906.54240914  -1029.48557434   -933.29436376   -113.05760018\n",
      "   -113.13802883   -112.94647724      0.              0.\n",
      "      0.              0.              0.              0.\n",
      "      0.              0.              0.                     nan\n",
      "             nan             nan             nan             nan\n",
      "             nan             nan             nan             nan\n",
      " -84755.53323214 -87206.81138798 -87546.20311723  -8726.72648104\n",
      "  -8887.00541859  -8922.10982344   -945.83945371   -967.80827752\n",
      "   -936.98391882   -113.05446464   -112.9433417    -113.12823144\n",
      "      0.              0.              0.              0.\n",
      "      0.              0.              0.              0.\n",
      "      0.                     nan             nan             nan\n",
      "             nan             nan             nan             nan\n",
      "             nan             nan -84968.02579231 -87732.89526192\n",
      " -87834.77627032  -8708.34090116  -8967.42359225  -8723.70355527\n",
      "   -982.34847328   -936.00794769   -934.15961709   -112.94647724\n",
      "   -113.1324249    -113.13136698      0.              0.\n",
      "      0.              0.              0.              0.\n",
      "      0.              0.              0.                     nan\n",
      "             nan             nan             nan             nan\n",
      "             nan             nan             nan             nan\n",
      " -84684.68976043 -87446.81929218 -87941.31970098  -8656.04844571\n",
      "  -8934.88692318  -8743.1143398    -904.09542148   -936.71757574\n",
      "   -933.86096042   -113.21689276   -112.9433417    -112.9433417\n",
      "      0.              0.              0.              0.\n",
      "      0.              0.              0.              0.\n",
      "      0.                     nan             nan             nan\n",
      "             nan             nan             nan             nan\n",
      "             nan             nan -84696.32499685 -87456.37841679\n",
      " -87757.63955854  -8660.76070067  -8809.56718617  -8872.42378329\n",
      "   -905.04975031   -937.85970953   -932.53034941   -113.15764945\n",
      "   -113.05446464   -113.12823144      0.              0.\n",
      "      0.              0.              0.              0.\n",
      "      0.              0.              0.                     nan\n",
      "             nan             nan             nan             nan\n",
      "             nan             nan             nan             nan\n",
      " -84954.78785392 -88234.11343265 -87441.23340081  -8761.16996389\n",
      "  -8820.39824875  -8717.97823517   -962.02006598   -968.28264419\n",
      "   -935.75624404   -113.05440689   -113.05760018   -112.9433417\n",
      "      0.              0.              0.              0.\n",
      "      0.              0.              0.              0.\n",
      "      0.                     nan             nan             nan\n",
      "             nan             nan             nan             nan\n",
      "             nan             nan -84641.2552968  -87356.14865637\n",
      " -88449.32732581  -8688.56091086  -8705.87566555  -8855.98169478\n",
      "   -909.28104296  -1010.84153729   -993.6881827    -113.05446464\n",
      "   -112.94647724   -112.94647724      0.              0.\n",
      "      0.              0.              0.              0.\n",
      "      0.              0.              0.                     nan\n",
      "             nan             nan             nan             nan\n",
      "             nan             nan             nan             nan\n",
      " -84744.06231715 -87469.55139954 -87945.25425209  -8729.70113105\n",
      "  -8907.06614342  -8737.46888236   -904.66546147   -939.24381207\n",
      "   -935.7608412    -113.14312596   -113.14312596   -112.9433417\n",
      "      0.              0.              0.              0.\n",
      "      0.              0.              0.              0.\n",
      "      0.                     nan             nan             nan\n",
      "             nan             nan             nan             nan\n",
      "             nan             nan -84880.26236737 -87437.19383292\n",
      " -87443.65546383  -8654.67460958  -8819.52122267  -8926.49511559\n",
      "   -957.01419771   -939.53878729   -934.6831331    -112.94647724\n",
      "   -113.15764945   -112.94647724      0.              0.\n",
      "      0.              0.              0.              0.\n",
      "      0.              0.              0.                     nan\n",
      "             nan             nan             nan             nan\n",
      "             nan             nan             nan             nan\n",
      " -84842.27554893 -87676.50488456 -87695.4433065   -8680.08644262\n",
      "  -8868.91132294  -8818.28639041   -906.72683932   -935.01899986\n",
      "   -936.58676294   -113.05760018   -113.05446464   -113.05446464\n",
      "      0.              0.              0.              0.\n",
      "      0.              0.              0.              0.\n",
      "      0.                     nan             nan             nan\n",
      "             nan             nan             nan             nan\n",
      "             nan             nan -84767.21001667 -87254.1290657\n",
      " -87577.93968751  -8677.4404237   -8765.93061338  -9013.27324586\n",
      "   -900.95172003   -937.10090903   -930.92138508   -113.14312596\n",
      "   -112.94647724   -113.12823144      0.              0.\n",
      "      0.              0.              0.              0.\n",
      "      0.              0.              0.                     nan\n",
      "             nan             nan             nan             nan\n",
      "             nan             nan             nan             nan\n",
      " -85140.37852215 -87475.91659413 -87886.42535949  -8727.6336884\n",
      "  -8764.01241195  -8958.19546399   -905.27355424   -934.30740727\n",
      "  -1009.79578858   -112.94647724   -113.21689276   -113.05760018\n",
      "      0.              0.              0.              0.\n",
      "      0.              0.              0.              0.\n",
      "      0.                     nan             nan             nan\n",
      "             nan             nan             nan             nan\n",
      "             nan             nan -84948.32398341 -87931.36013654\n",
      " -87890.60546507  -8794.29004644  -8891.60726588  -8923.16292768\n",
      "   -958.80458272   -966.23281453   -930.66452857   -113.05446464\n",
      "   -113.14312596   -113.15764945      0.              0.\n",
      "      0.              0.              0.              0.\n",
      "      0.              0.              0.                     nan\n",
      "             nan             nan             nan             nan\n",
      "             nan             nan             nan             nan]\n",
      "  category=UserWarning\n"
     ]
    },
    {
     "name": "stdout",
     "output_type": "stream",
     "text": [
      "Best parameters set:\n",
      "[('cv', CountVectorizer(max_df=0.1, max_features=8000, min_df=401, stop_words='english')), ('clf', KMeans(max_iter=100000, n_clusters=9))]\n"
     ]
    }
   ],
   "source": [
    "#KMeans(n_clusters=n_clusters, init='k-means++', max_iter=100000)\n",
    "pipeline = Pipeline([\n",
    "    ('cv', CountVectorizer(stop_words='english')),\n",
    "    ('clf', KMeans(init='k-means++')),\n",
    "    #('clf', OneVsRestClassifier(MultinomialNB(\n",
    "    #    fit_prior=True, class_prior=None))),\n",
    "])\n",
    "parameters = {\n",
    "    'cv__max_df': np.arange(0.1, 1.1, 0.05),\n",
    "    'cv__min_df': np.arange(1, 1001, 100),\n",
    "    'cv__ngram_range': [(1, 1), (1, 2), (1, 3)],\n",
    "    'cv__max_features': [8000],\n",
    "    'clf__n_clusters': [9],\n",
    "    'clf__max_iter': [100000]\n",
    "}\n",
    "\n",
    "grid_search_tune = GridSearchCV(pipeline, parameters, cv=2, n_jobs=8, verbose=4)\n",
    "grid_search_tune.fit(X_train_data['text'], y_train)\n",
    "\n",
    "print(\"Best parameters set:\")\n",
    "print(grid_search_tune.best_estimator_.steps)"
   ]
  },
  {
   "cell_type": "code",
   "execution_count": 241,
   "metadata": {},
   "outputs": [],
   "source": [
    "ngram_range = (1,3)\n",
    "min_df = 401\n",
    "max_df = 0.1\n",
    "\n",
    "\n",
    "vec = CountVectorizer(ngram_range=ngram_range, min_df=min_df, max_df=max_df, stop_words=\"english\",)\n",
    "matrix = vec.fit_transform(X_train_data['text'])\n",
    "XTrain = matrix.toarray()\n",
    "XTest = vec.transform(X_test_data['text']).toarray()"
   ]
  },
  {
   "cell_type": "code",
   "execution_count": 242,
   "metadata": {},
   "outputs": [
    {
     "data": {
      "image/png": "[encoded data removed]",
      "text/plain": [
       "<Figure size 720x432 with 1 Axes>"
      ]
     },
     "metadata": {
      "needs_background": "light"
     },
     "output_type": "display_data"
    },
    {
     "name": "stdout",
     "output_type": "stream",
     "text": [
      "train adjusted_rand_score: -0.007614041804533967\n",
      "test adjusted_rand_score: -0.005278588383632671\n"
     ]
    }
   ],
   "source": [
    "# Perform K-means clustering\n",
    "model, labels = get_kmeans(XTrain, y_train)\n",
    "# Generate scatter plot of clusters\n",
    "get_cluster_scatter_plot(XTrain, model, labels, 'Manual Word Vector')\n",
    "# Evaluate performance with hamming loss\n",
    "evaluate_cluster_performance(model, XTrain, y_train, XTest, y_test)"
   ]
  },
  {
   "cell_type": "code",
   "execution_count": 243,
   "metadata": {},
   "outputs": [
    {
     "data": {
      "text/plain": [
       "[('trump', 1664),\n",
       " ('photos', 1144),\n",
       " ('people', 820),\n",
       " ('donald', 760),\n",
       " ('donald trump', 587),\n",
       " ('world', 556),\n",
       " ('president', 556),\n",
       " ('video', 535),\n",
       " ('years', 498),\n",
       " ('house', 435)]"
      ]
     },
     "execution_count": 243,
     "metadata": {},
     "output_type": "execute_result"
    }
   ],
   "source": [
    "sum_words = matrix.sum(axis=0)\n",
    "words_freq = [(word, sum_words[0, idx]) for word, idx in vec.vocabulary_.items()]\n",
    "words_freq = sorted(words_freq, key = lambda x: x[1], reverse=True)\n",
    "words_freq"
   ]
  },
  {
   "cell_type": "code",
   "execution_count": 260,
   "metadata": {},
   "outputs": [],
   "source": [
    "label_important_words = {}\n",
    "\n",
    "for label, value in label_indexes.items():\n",
    "    vec = CountVectorizer(ngram_range=(1,2), stop_words='english')\n",
    "    matrix = vec.fit_transform(X_train_data['text'][value['indexes']])\n",
    "    \n",
    "    sum_words = matrix.sum(axis=0)\n",
    "    words_freq = [(word, sum_words[0, idx]) for word, idx in vec.vocabulary_.items()]\n",
    "    words_freq = sorted(words_freq, key = lambda x: x[1], reverse=True)\n",
    "    \n",
    "    df = pd.DataFrame(words_freq)\n",
    "    \n",
    "    df = df.drop_duplicates()\n",
    "    df = df.rename(columns={0:'word', 1: 'count'})\n",
    "    label_important_words.update({value['name']: df})\n",
    "\n",
    "#array(['POLITICS', 'FOOD & DRINK', 'TRAVEL', 'STYLE & BEAUTY',\n",
    "#       'ENTERTAINMENT', 'HEALTHY LIVING', 'PARENTING', 'QUEER VOICES',\n",
    "#       'BUSINESS'], dtype=object)"
   ]
  },
  {
   "cell_type": "code",
   "execution_count": 262,
   "metadata": {},
   "outputs": [
    {
     "data": {
      "text/html": [
       "<div>\n",
       "<style scoped>\n",
       "    .dataframe tbody tr th:only-of-type {\n",
       "        vertical-align: middle;\n",
       "    }\n",
       "\n",
       "    .dataframe tbody tr th {\n",
       "        vertical-align: top;\n",
       "    }\n",
       "\n",
       "    .dataframe thead th {\n",
       "        text-align: right;\n",
       "    }\n",
       "</style>\n",
       "<table border=\"1\" class=\"dataframe\">\n",
       "  <thead>\n",
       "    <tr style=\"text-align: right;\">\n",
       "      <th></th>\n",
       "      <th>word</th>\n",
       "      <th>count</th>\n",
       "    </tr>\n",
       "  </thead>\n",
       "  <tbody>\n",
       "    <tr>\n",
       "      <th>0</th>\n",
       "      <td>business</td>\n",
       "      <td>123</td>\n",
       "    </tr>\n",
       "    <tr>\n",
       "      <th>1</th>\n",
       "      <td>people</td>\n",
       "      <td>76</td>\n",
       "    </tr>\n",
       "    <tr>\n",
       "      <th>2</th>\n",
       "      <td>women</td>\n",
       "      <td>70</td>\n",
       "    </tr>\n",
       "    <tr>\n",
       "      <th>3</th>\n",
       "      <td>company</td>\n",
       "      <td>49</td>\n",
       "    </tr>\n",
       "    <tr>\n",
       "      <th>4</th>\n",
       "      <td>workers</td>\n",
       "      <td>43</td>\n",
       "    </tr>\n",
       "    <tr>\n",
       "      <th>5</th>\n",
       "      <td>companies</td>\n",
       "      <td>42</td>\n",
       "    </tr>\n",
       "    <tr>\n",
       "      <th>6</th>\n",
       "      <td>change</td>\n",
       "      <td>41</td>\n",
       "    </tr>\n",
       "    <tr>\n",
       "      <th>7</th>\n",
       "      <td>years</td>\n",
       "      <td>34</td>\n",
       "    </tr>\n",
       "    <tr>\n",
       "      <th>8</th>\n",
       "      <td>industry</td>\n",
       "      <td>33</td>\n",
       "    </tr>\n",
       "    <tr>\n",
       "      <th>9</th>\n",
       "      <td>world</td>\n",
       "      <td>31</td>\n",
       "    </tr>\n",
       "    <tr>\n",
       "      <th>10</th>\n",
       "      <td>america</td>\n",
       "      <td>30</td>\n",
       "    </tr>\n",
       "    <tr>\n",
       "      <th>11</th>\n",
       "      <td>things</td>\n",
       "      <td>30</td>\n",
       "    </tr>\n",
       "    <tr>\n",
       "      <th>12</th>\n",
       "      <td>financial</td>\n",
       "      <td>29</td>\n",
       "    </tr>\n",
       "    <tr>\n",
       "      <th>13</th>\n",
       "      <td>women business</td>\n",
       "      <td>28</td>\n",
       "    </tr>\n",
       "    <tr>\n",
       "      <th>14</th>\n",
       "      <td>customers</td>\n",
       "      <td>27</td>\n",
       "    </tr>\n",
       "    <tr>\n",
       "      <th>15</th>\n",
       "      <td>billion</td>\n",
       "      <td>27</td>\n",
       "    </tr>\n",
       "    <tr>\n",
       "      <th>16</th>\n",
       "      <td>money</td>\n",
       "      <td>27</td>\n",
       "    </tr>\n",
       "    <tr>\n",
       "      <th>17</th>\n",
       "      <td>report</td>\n",
       "      <td>26</td>\n",
       "    </tr>\n",
       "    <tr>\n",
       "      <th>18</th>\n",
       "      <td>great</td>\n",
       "      <td>25</td>\n",
       "    </tr>\n",
       "    <tr>\n",
       "      <th>19</th>\n",
       "      <td>economic</td>\n",
       "      <td>25</td>\n",
       "    </tr>\n",
       "  </tbody>\n",
       "</table>\n",
       "</div>"
      ],
      "text/plain": [
       "              word  count\n",
       "0         business    123\n",
       "1           people     76\n",
       "2            women     70\n",
       "3          company     49\n",
       "4          workers     43\n",
       "5        companies     42\n",
       "6           change     41\n",
       "7            years     34\n",
       "8         industry     33\n",
       "9            world     31\n",
       "10         america     30\n",
       "11          things     30\n",
       "12       financial     29\n",
       "13  women business     28\n",
       "14       customers     27\n",
       "15         billion     27\n",
       "16           money     27\n",
       "17          report     26\n",
       "18           great     25\n",
       "19        economic     25"
      ]
     },
     "execution_count": 262,
     "metadata": {},
     "output_type": "execute_result"
    }
   ],
   "source": [
    "label_important_words['BUSINESS'][0:20]"
   ]
  },
  {
   "cell_type": "markdown",
   "metadata": {},
   "source": [
    "## TF-IDF"
   ]
  },
  {
   "cell_type": "code",
   "execution_count": 257,
   "metadata": {},
   "outputs": [
    {
     "name": "stdout",
     "output_type": "stream",
     "text": [
      "Fitting 2 folds for each of 144 candidates, totalling 288 fits\n",
      "Best parameters set:\n",
      "[('tfidf', TfidfVectorizer(max_df=0.95, max_features=8000, min_df=5, ngram_range=(1, 3),\n",
      "                norm='l1', smooth_idf=False, stop_words='english',\n",
      "                strip_accents='ascii', sublinear_tf=True, use_idf=False)), ('clf', KMeans(max_iter=100000, n_clusters=9))]\n"
     ]
    }
   ],
   "source": [
    "#KMeans(n_clusters=n_clusters, init='k-means++', max_iter=100000)\n",
    "pipeline = Pipeline([\n",
    "    ('tfidf', TfidfVectorizer(stop_words='english')),\n",
    "    ('clf', KMeans(init='k-means++')),\n",
    "    #('clf', OneVsRestClassifier(MultinomialNB(\n",
    "    #    fit_prior=True, class_prior=None))),\n",
    "])\n",
    "parameters = {\n",
    "    'tfidf__norm': ['l1', 'l2'],\n",
    "    'tfidf__max_df': [0.95],\n",
    "    'tfidf__min_df': [5],\n",
    "    'tfidf__ngram_range': [(1, 1), (1, 2), (1, 3)],\n",
    "    'tfidf__sublinear_tf': [True, False],\n",
    "    'tfidf__norm': ['l1', 'l2'],\n",
    "    'tfidf__smooth_idf': [True, False],\n",
    "    'tfidf__use_idf': [True, False],\n",
    "    'tfidf__strip_accents': [None, 'ascii', 'unicode'],\n",
    "    'tfidf__max_features': [8000],\n",
    "    #'clf__estimator__alpha': (1e-2, 1e-3)\n",
    "    'clf__n_clusters': [9],\n",
    "    'clf__max_iter': [100000]\n",
    "}\n",
    "\n",
    "grid_search_tune = GridSearchCV(pipeline, parameters, cv=2, n_jobs=8, verbose=4)\n",
    "grid_search_tune.fit(X_train_data['text'], y_train)\n",
    "\n",
    "print(\"Best parameters set:\")\n",
    "print(grid_search_tune.best_estimator_.steps)"
   ]
  },
  {
   "cell_type": "code",
   "execution_count": 258,
   "metadata": {},
   "outputs": [],
   "source": [
    "# best parameters\n",
    "max_df = 0.05\n",
    "max_features=8000\n",
    "min_df = 5\n",
    "ngram_range = (1,3)\n",
    "norm = 'l1'\n",
    "smooth_idf=True\n",
    "stop_words='english'\n",
    "strip_accents='ascii'\n",
    "sublinear_tf=True\n",
    "use_idf=False\n",
    "\n",
    "\n",
    "tfidf = TfidfVectorizer(ngram_range=ngram_range, norm=norm, max_df=max_df, min_df=min_df, sublinear_tf=sublinear_tf, \\\n",
    "                        stop_words=stop_words, max_features=max_features, strip_accents=strip_accents, use_idf=use_idf, \\\n",
    "                       smooth_idf=smooth_idf)\n",
    "XTrain = tfidf.fit_transform(X_train_data['text']).toarray()\n",
    "XTest = tfidf.transform(X_test_data['text']).astype('float64').toarray()"
   ]
  },
  {
   "cell_type": "code",
   "execution_count": 259,
   "metadata": {},
   "outputs": [
    {
     "data": {
      "image/png": "[encoded data removed]",
      "text/plain": [
       "<Figure size 720x432 with 1 Axes>"
      ]
     },
     "metadata": {
      "needs_background": "light"
     },
     "output_type": "display_data"
    },
    {
     "name": "stdout",
     "output_type": "stream",
     "text": [
      "train adjusted_rand_score: -0.032896877218783864\n",
      "test adjusted_rand_score: -0.03177079706087411\n"
     ]
    }
   ],
   "source": [
    "# Perform K-means clustering\n",
    "model, labels = get_kmeans(XTrain, y_train)\n",
    "# Generate scatter plot of clusters\n",
    "get_cluster_scatter_plot(XTrain, model, labels, 'TF-IDF Vector')\n",
    "# Evaluate performance with hamming loss\n",
    "evaluate_cluster_performance(model, XTrain, y_train, XTest, y_test)"
   ]
  },
  {
   "cell_type": "code",
   "execution_count": 58,
   "metadata": {},
   "outputs": [],
   "source": [
    "tfidf = TfidfVectorizer(ngram_range=ngram_range, min_df=5, max_df=0.95, max_features=8000)\n",
    "XTrain = tfidf.fit_transform(X_train_data['text']).toarray()\n",
    "XTest = tfidf.transform(X_test_data['text']).astype('float64').toarray()"
   ]
  },
  {
   "cell_type": "code",
   "execution_count": 59,
   "metadata": {},
   "outputs": [
    {
     "data": {
      "image/png": "[encoded data removed]",
      "text/plain": [
       "<Figure size 720x432 with 1 Axes>"
      ]
     },
     "metadata": {
      "needs_background": "light"
     },
     "output_type": "display_data"
    },
    {
     "name": "stdout",
     "output_type": "stream",
     "text": [
      "train adjusted_rand_score: -0.023509218060891447\n",
      "test adjusted_rand_score: -0.020863427058684426\n"
     ]
    }
   ],
   "source": [
    "# Perform K-means clustering\n",
    "model, labels = get_kmeans(XTrain, y_train)\n",
    "# Generate scatter plot of clusters\n",
    "get_cluster_scatter_plot(XTrain, model, labels, 'TF-IDF Vector')\n",
    "# Evaluate performance with hamming loss\n",
    "evaluate_cluster_performance(model, XTrain, y_train, XTest, y_test)"
   ]
  },
  {
   "cell_type": "code",
   "execution_count": 68,
   "metadata": {},
   "outputs": [],
   "source": [
    "# best parameters\n",
    "max_df = 0.3\n",
    "min_df = 371\n",
    "norm = 'l1'\n",
    "stop_words='english'\n",
    "ngram_range = (1,3)\n",
    "strip_accents=None\n",
    "sublinear_tf=True\n",
    "max_features=8000\n",
    "\n",
    "tfidf = TfidfVectorizer(ngram_range=ngram_range, norm=norm, max_df=max_df, min_df=min_df, sublinear_tf=sublinear_tf, \\\n",
    "                        stop_words=stop_words, max_features=max_features, strip_accents=strip_accents)\n",
    "XTrain = tfidf.fit_transform(X_train_data['text']).toarray()\n",
    "XTest = tfidf.transform(X_test_data['text']).astype('float64').toarray()"
   ]
  },
  {
   "cell_type": "code",
   "execution_count": 69,
   "metadata": {},
   "outputs": [
    {
     "data": {
      "image/png": "[encoded data removed]",
      "text/plain": [
       "<Figure size 720x432 with 1 Axes>"
      ]
     },
     "metadata": {
      "needs_background": "light"
     },
     "output_type": "display_data"
    },
    {
     "name": "stdout",
     "output_type": "stream",
     "text": [
      "train adjusted_rand_score: 0.02206494380684275\n",
      "test adjusted_rand_score: 0.02462504720157772\n"
     ]
    }
   ],
   "source": [
    "# Perform K-means clustering\n",
    "model, labels = get_kmeans(XTrain, y_train)\n",
    "# Generate scatter plot of clusters\n",
    "get_cluster_scatter_plot(XTrain, model, labels, 'TF-IDF Vector')\n",
    "# Evaluate performance with hamming loss\n",
    "evaluate_cluster_performance(model, XTrain, y_train, XTest, y_test)"
   ]
  },
  {
   "cell_type": "code",
   "execution_count": 263,
   "metadata": {},
   "outputs": [],
   "source": [
    "label_important_words = {}\n",
    "for label, value in label_indexes.items():\n",
    "    tfidf = TfidfVectorizer(ngram_range=ngram_range, norm=norm, sublinear_tf=sublinear_tf, \\\n",
    "                        stop_words=stop_words, max_features=max_features, strip_accents=strip_accents)\n",
    "    XTrain = tfidf.fit_transform(X_train_data['text'][value['indexes']])\n",
    "    \n",
    "    feature_names = tfidf.get_feature_names()\n",
    "    feature_ix = XTrain[0:].nonzero()[1]\n",
    "    tfidf_scores = zip(feature_ix, [XTrain[0, x] for x in feature_ix])\n",
    "    \n",
    "    df = pd.DataFrame(columns=['word', 'tf-idf score'])\n",
    "    for w, s in [(feature_names[i], s) for (i, s) in tfidf_scores]:\n",
    "        if s > 0.0:\n",
    "            df = df.append({'word': w, 'tf-idf score': s}, ignore_index=True)\n",
    "    df.sort_values(by=['tf-idf score'], axis=0, inplace=True, ascending=False)\n",
    "    df = df.drop_duplicates()\n",
    "    label_important_words.update({value['name']: df})\n",
    "\n",
    "#array(['POLITICS', 'FOOD & DRINK', 'TRAVEL', 'STYLE & BEAUTY',\n",
    "#       'ENTERTAINMENT', 'HEALTHY LIVING', 'PARENTING', 'QUEER VOICES',\n",
    "#       'BUSINESS'], dtype=object)"
   ]
  },
  {
   "cell_type": "code",
   "execution_count": 264,
   "metadata": {},
   "outputs": [
    {
     "data": {
      "text/html": [
       "<div>\n",
       "<style scoped>\n",
       "    .dataframe tbody tr th:only-of-type {\n",
       "        vertical-align: middle;\n",
       "    }\n",
       "\n",
       "    .dataframe tbody tr th {\n",
       "        vertical-align: top;\n",
       "    }\n",
       "\n",
       "    .dataframe thead th {\n",
       "        text-align: right;\n",
       "    }\n",
       "</style>\n",
       "<table border=\"1\" class=\"dataframe\">\n",
       "  <thead>\n",
       "    <tr style=\"text-align: right;\">\n",
       "      <th></th>\n",
       "      <th>word</th>\n",
       "      <th>tf-idf score</th>\n",
       "    </tr>\n",
       "  </thead>\n",
       "  <tbody>\n",
       "    <tr>\n",
       "      <th>25</th>\n",
       "      <td>customer</td>\n",
       "      <td>0.070865</td>\n",
       "    </tr>\n",
       "    <tr>\n",
       "      <th>111</th>\n",
       "      <td>customer service</td>\n",
       "      <td>0.066358</td>\n",
       "    </tr>\n",
       "    <tr>\n",
       "      <th>13</th>\n",
       "      <td>customer loyalty</td>\n",
       "      <td>0.061446</td>\n",
       "    </tr>\n",
       "    <tr>\n",
       "      <th>81</th>\n",
       "      <td>loyalty</td>\n",
       "      <td>0.055463</td>\n",
       "    </tr>\n",
       "    <tr>\n",
       "      <th>53</th>\n",
       "      <td>service</td>\n",
       "      <td>0.053266</td>\n",
       "    </tr>\n",
       "    <tr>\n",
       "      <th>1</th>\n",
       "      <td>manage customer loyalty</td>\n",
       "      <td>0.036291</td>\n",
       "    </tr>\n",
       "    <tr>\n",
       "      <th>0</th>\n",
       "      <td>loyalty build relationships</td>\n",
       "      <td>0.036291</td>\n",
       "    </tr>\n",
       "    <tr>\n",
       "      <th>3</th>\n",
       "      <td>management customer service</td>\n",
       "      <td>0.036291</td>\n",
       "    </tr>\n",
       "    <tr>\n",
       "      <th>4</th>\n",
       "      <td>loyalty management customer</td>\n",
       "      <td>0.036291</td>\n",
       "    </tr>\n",
       "    <tr>\n",
       "      <th>5</th>\n",
       "      <td>relationships customers</td>\n",
       "      <td>0.036291</td>\n",
       "    </tr>\n",
       "    <tr>\n",
       "      <th>7</th>\n",
       "      <td>loyalty build</td>\n",
       "      <td>0.036291</td>\n",
       "    </tr>\n",
       "    <tr>\n",
       "      <th>8</th>\n",
       "      <td>manage customer</td>\n",
       "      <td>0.036291</td>\n",
       "    </tr>\n",
       "    <tr>\n",
       "      <th>11</th>\n",
       "      <td>management customer</td>\n",
       "      <td>0.036291</td>\n",
       "    </tr>\n",
       "    <tr>\n",
       "      <th>12</th>\n",
       "      <td>loyalty management</td>\n",
       "      <td>0.036291</td>\n",
       "    </tr>\n",
       "    <tr>\n",
       "      <th>84</th>\n",
       "      <td>effectively</td>\n",
       "      <td>0.034224</td>\n",
       "    </tr>\n",
       "    <tr>\n",
       "      <th>67</th>\n",
       "      <td>service customer</td>\n",
       "      <td>0.034224</td>\n",
       "    </tr>\n",
       "    <tr>\n",
       "      <th>125</th>\n",
       "      <td>leverage</td>\n",
       "      <td>0.034224</td>\n",
       "    </tr>\n",
       "    <tr>\n",
       "      <th>2</th>\n",
       "      <td>customer service customer</td>\n",
       "      <td>0.034224</td>\n",
       "    </tr>\n",
       "    <tr>\n",
       "      <th>6</th>\n",
       "      <td>build relationships</td>\n",
       "      <td>0.034224</td>\n",
       "    </tr>\n",
       "    <tr>\n",
       "      <th>17</th>\n",
       "      <td>manage</td>\n",
       "      <td>0.031620</td>\n",
       "    </tr>\n",
       "  </tbody>\n",
       "</table>\n",
       "</div>"
      ],
      "text/plain": [
       "                            word  tf-idf score\n",
       "25                      customer      0.070865\n",
       "111             customer service      0.066358\n",
       "13              customer loyalty      0.061446\n",
       "81                       loyalty      0.055463\n",
       "53                       service      0.053266\n",
       "1        manage customer loyalty      0.036291\n",
       "0    loyalty build relationships      0.036291\n",
       "3    management customer service      0.036291\n",
       "4    loyalty management customer      0.036291\n",
       "5        relationships customers      0.036291\n",
       "7                  loyalty build      0.036291\n",
       "8                manage customer      0.036291\n",
       "11           management customer      0.036291\n",
       "12            loyalty management      0.036291\n",
       "84                   effectively      0.034224\n",
       "67              service customer      0.034224\n",
       "125                     leverage      0.034224\n",
       "2      customer service customer      0.034224\n",
       "6            build relationships      0.034224\n",
       "17                        manage      0.031620"
      ]
     },
     "execution_count": 264,
     "metadata": {},
     "output_type": "execute_result"
    }
   ],
   "source": [
    "label_important_words['BUSINESS'][0:20]"
   ]
  },
  {
   "cell_type": "markdown",
   "metadata": {},
   "source": [
    "## doc2vec Vector"
   ]
  },
  {
   "cell_type": "code",
   "execution_count": 254,
   "metadata": {},
   "outputs": [
    {
     "name": "stdout",
     "output_type": "stream",
     "text": [
      "Finished model training process\n"
     ]
    }
   ],
   "source": [
    "doc2vec_corpus = list()\n",
    "for doc in X_train_data['text']:\n",
    "    c = Counter(doc.split())\n",
    "    doc2vec_corpus.append(list(c))\n",
    "    \n",
    "documents = [TaggedDocument(doc, [i]) for i, doc in enumerate(doc2vec_corpus)]\n",
    "\n",
    "doc2vec_corpus_test = list()\n",
    "for doc in X_test_data['text']:\n",
    "    c = Counter(doc.split())\n",
    "    doc2vec_corpus_test.append(list(c))\n",
    "    \n",
    "documents = [TaggedDocument(doc, [i]) for i, doc in enumerate(doc2vec_corpus)]\n",
    "\n",
    "epochs = 10   # How many epochs to be trained\n",
    "vector_size = 500  # How many dimensions\n",
    "alpha = .025   # Initial learning rate\n",
    "min_alpha = .00025  # Learning rate changes step\n",
    "dm = 1   # Use Distributed bags of words\n",
    "\n",
    "doc2vec_model = Doc2Vec(vector_size=vector_size, window=10, min_count=1, workers=16, seed=111)\n",
    "doc2vec_model.build_vocab(documents)\n",
    "\n",
    "doc2vec_model.train(documents, total_examples=doc2vec_model.corpus_count, epochs=15)\n",
    "print('Finished model training process')"
   ]
  },
  {
   "cell_type": "code",
   "execution_count": 62,
   "metadata": {},
   "outputs": [
    {
     "data": {
      "text/plain": [
       "(4000, 500)"
      ]
     },
     "execution_count": 62,
     "metadata": {},
     "output_type": "execute_result"
    }
   ],
   "source": [
    "X_test = list()\n",
    "for doc in doc2vec_corpus_test:\n",
    "    X_test.append(doc2vec_model.infer_vector(doc))\n",
    "X_test = np.array(X_test)\n",
    "X_test.shape"
   ]
  },
  {
   "cell_type": "code",
   "execution_count": 63,
   "metadata": {},
   "outputs": [
    {
     "data": {
      "image/png": "[encoded data removed]",
      "text/plain": [
       "<Figure size 720x432 with 1 Axes>"
      ]
     },
     "metadata": {
      "needs_background": "light"
     },
     "output_type": "display_data"
    },
    {
     "name": "stdout",
     "output_type": "stream",
     "text": [
      "train adjusted_rand_score: 0.09722289164480423\n",
      "test adjusted_rand_score: 0.13898874615123932\n"
     ]
    }
   ],
   "source": [
    "XTrain = doc2vec_model.docvecs.vectors_docs\n",
    "XTest = X_test\n",
    "\n",
    "# Perform K-means clustering\n",
    "model, labels = get_kmeans(XTrain, y_train)\n",
    "# Generate scatter plot of clusters\n",
    "get_cluster_scatter_plot(XTrain, model, labels, 'Doc2Vec Vector')\n",
    "# Evaluate performance with hamming loss\n",
    "evaluate_cluster_performance(model, XTrain, y_train, XTest, y_test)"
   ]
  },
  {
   "cell_type": "code",
   "execution_count": null,
   "metadata": {},
   "outputs": [],
   "source": []
  },
  {
   "cell_type": "code",
   "execution_count": 253,
   "metadata": {},
   "outputs": [],
   "source": [
    "doc2vec_corpus = list()\n",
    "for doc in X_train_data['text']:\n",
    "    c = Counter(doc.split())\n",
    "    doc2vec_corpus.append(list(c))\n",
    "    \n",
    "documents = [TaggedDocument(doc, [i]) for i, doc in enumerate(doc2vec_corpus)]\n",
    "\n",
    "doc2vec_corpus_test = list()\n",
    "for doc in X_test_data['text']:\n",
    "    c = Counter(doc.split())\n",
    "    doc2vec_corpus_test.append(list(c))\n",
    "    \n",
    "documents = [TaggedDocument(doc, [i]) for i, doc in enumerate(doc2vec_corpus)]"
   ]
  },
  {
   "cell_type": "code",
   "execution_count": 252,
   "metadata": {},
   "outputs": [],
   "source": [
    "from sklearn.base import BaseEstimator\n",
    "class Doc2VecModel(BaseEstimator):\n",
    "\n",
    "    def __init__(self, dm=1, size=1, window=1):\n",
    "        self.d2v_model = None\n",
    "        self.size = size\n",
    "        self.window = window\n",
    "        self.dm = dm\n",
    "\n",
    "    def fit(self, raw_documents, y=None):\n",
    "        # Initialize model\n",
    "        self.d2v_model = Doc2Vec(size=self.size, window=self.window, dm=self.dm, iter=5, alpha=0.025, min_alpha=0.001)\n",
    "        # Tag docs\n",
    "        tagged_documents = []\n",
    "        for index, row in raw_documents.iteritems():\n",
    "            tag = '{}_{}'.format(\"type\", index)\n",
    "            tokens = row.split()\n",
    "            tagged_documents.append(TaggedDocument(words=tokens, tags=[tag]))\n",
    "        # Build vocabulary\n",
    "        self.d2v_model.build_vocab(tagged_documents)\n",
    "        # Train model\n",
    "        self.d2v_model.train(tagged_documents, total_examples=len(tagged_documents), epochs=self.d2v_model.iter)\n",
    "        return self\n",
    "\n",
    "    def transform(self, raw_documents):\n",
    "        X = []\n",
    "        for index, row in raw_documents.iteritems():\n",
    "            X.append(self.d2v_model.infer_vector(row))\n",
    "        X = pd.DataFrame(X, index=raw_documents.index)\n",
    "        return X\n",
    "\n",
    "    def fit_transform(self, raw_documents, y=None):\n",
    "        self.fit(raw_documents)\n",
    "        return self.transform(raw_documents)"
   ]
  },
  {
   "cell_type": "code",
   "execution_count": 255,
   "metadata": {},
   "outputs": [
    {
     "name": "stdout",
     "output_type": "stream",
     "text": [
      "Fitting 5 folds for each of 360 candidates, totalling 1800 fits\n"
     ]
    },
    {
     "name": "stderr",
     "output_type": "stream",
     "text": [
      "/opt/conda/lib/python3.7/site-packages/sklearn/model_selection/_search.py:921: UserWarning: One or more of the test scores are non-finite: [nan nan nan nan nan nan nan nan nan nan nan nan nan nan nan nan nan nan\n",
      " nan nan nan nan nan nan nan nan nan nan nan nan nan nan nan nan nan nan\n",
      " nan nan nan nan nan nan nan nan nan nan nan nan nan nan nan nan nan nan\n",
      " nan nan nan nan nan nan nan nan nan nan nan nan nan nan nan nan nan nan\n",
      " nan nan nan nan nan nan nan nan nan nan nan nan nan nan nan nan nan nan\n",
      " nan nan nan nan nan nan nan nan nan nan nan nan nan nan nan nan nan nan\n",
      " nan nan nan nan nan nan nan nan nan nan nan nan nan nan nan nan nan nan\n",
      " nan nan nan nan nan nan nan nan nan nan nan nan nan nan nan nan nan nan\n",
      " nan nan nan nan nan nan nan nan nan nan nan nan nan nan nan nan nan nan\n",
      " nan nan nan nan nan nan nan nan nan nan nan nan nan nan nan nan nan nan\n",
      " nan nan nan nan nan nan nan nan nan nan nan nan nan nan nan nan nan nan\n",
      " nan nan nan nan nan nan nan nan nan nan nan nan nan nan nan nan nan nan\n",
      " nan nan nan nan nan nan nan nan nan nan nan nan nan nan nan nan nan nan\n",
      " nan nan nan nan nan nan nan nan nan nan nan nan nan nan nan nan nan nan\n",
      " nan nan nan nan nan nan nan nan nan nan nan nan nan nan nan nan nan nan\n",
      " nan nan nan nan nan nan nan nan nan nan nan nan nan nan nan nan nan nan\n",
      " nan nan nan nan nan nan nan nan nan nan nan nan nan nan nan nan nan nan\n",
      " nan nan nan nan nan nan nan nan nan nan nan nan nan nan nan nan nan nan\n",
      " nan nan nan nan nan nan nan nan nan nan nan nan nan nan nan nan nan nan\n",
      " nan nan nan nan nan nan nan nan nan nan nan nan nan nan nan nan nan nan]\n",
      "  category=UserWarning\n",
      "/opt/conda/lib/python3.7/site-packages/gensim/models/doc2vec.py:315: UserWarning: The parameter `iter` is deprecated, will be removed in 4.0.0, use `epochs` instead.\n",
      "  warnings.warn(\"The parameter `iter` is deprecated, will be removed in 4.0.0, use `epochs` instead.\")\n",
      "/opt/conda/lib/python3.7/site-packages/gensim/models/doc2vec.py:319: UserWarning: The parameter `size` is deprecated, will be removed in 4.0.0, use `vector_size` instead.\n",
      "  warnings.warn(\"The parameter `size` is deprecated, will be removed in 4.0.0, use `vector_size` instead.\")\n",
      "/opt/conda/lib/python3.7/site-packages/ipykernel_launcher.py:22: DeprecationWarning: Call to deprecated `iter` (Attribute will be removed in 4.0.0, use self.epochs instead).\n"
     ]
    },
    {
     "ename": "TypeError",
     "evalue": "Parameter doc_words of infer_vector() must be a list of strings (not a single string).",
     "output_type": "error",
     "traceback": [
      "\u001b[0;31m---------------------------------------------------------------------------\u001b[0m",
      "\u001b[0;31mTypeError\u001b[0m                                 Traceback (most recent call last)",
      "\u001b[0;32m<ipython-input-255-b37bcd410aa2>\u001b[0m in \u001b[0;36m<module>\u001b[0;34m\u001b[0m\n\u001b[1;32m     27\u001b[0m                         n_jobs=8)\n\u001b[1;32m     28\u001b[0m \u001b[0;34m\u001b[0m\u001b[0m\n\u001b[0;32m---> 29\u001b[0;31m \u001b[0mfitted\u001b[0m \u001b[0;34m=\u001b[0m \u001b[0mkmean_grid\u001b[0m\u001b[0;34m.\u001b[0m\u001b[0mfit\u001b[0m\u001b[0;34m(\u001b[0m\u001b[0mX_train_data\u001b[0m\u001b[0;34m[\u001b[0m\u001b[0;34m'text'\u001b[0m\u001b[0;34m]\u001b[0m\u001b[0;34m,\u001b[0m \u001b[0my_train\u001b[0m\u001b[0;34m)\u001b[0m\u001b[0;34m\u001b[0m\u001b[0;34m\u001b[0m\u001b[0m\n\u001b[0m\u001b[1;32m     30\u001b[0m \u001b[0;34m\u001b[0m\u001b[0m\n\u001b[1;32m     31\u001b[0m \u001b[0;31m# Best parameters\u001b[0m\u001b[0;34m\u001b[0m\u001b[0;34m\u001b[0m\u001b[0;34m\u001b[0m\u001b[0m\n",
      "\u001b[0;32m/opt/conda/lib/python3.7/site-packages/sklearn/utils/validation.py\u001b[0m in \u001b[0;36minner_f\u001b[0;34m(*args, **kwargs)\u001b[0m\n\u001b[1;32m     61\u001b[0m             \u001b[0mextra_args\u001b[0m \u001b[0;34m=\u001b[0m \u001b[0mlen\u001b[0m\u001b[0;34m(\u001b[0m\u001b[0margs\u001b[0m\u001b[0;34m)\u001b[0m \u001b[0;34m-\u001b[0m \u001b[0mlen\u001b[0m\u001b[0;34m(\u001b[0m\u001b[0mall_args\u001b[0m\u001b[0;34m)\u001b[0m\u001b[0;34m\u001b[0m\u001b[0;34m\u001b[0m\u001b[0m\n\u001b[1;32m     62\u001b[0m             \u001b[0;32mif\u001b[0m \u001b[0mextra_args\u001b[0m \u001b[0;34m<=\u001b[0m \u001b[0;36m0\u001b[0m\u001b[0;34m:\u001b[0m\u001b[0;34m\u001b[0m\u001b[0;34m\u001b[0m\u001b[0m\n\u001b[0;32m---> 63\u001b[0;31m                 \u001b[0;32mreturn\u001b[0m \u001b[0mf\u001b[0m\u001b[0;34m(\u001b[0m\u001b[0;34m*\u001b[0m\u001b[0margs\u001b[0m\u001b[0;34m,\u001b[0m \u001b[0;34m**\u001b[0m\u001b[0mkwargs\u001b[0m\u001b[0;34m)\u001b[0m\u001b[0;34m\u001b[0m\u001b[0;34m\u001b[0m\u001b[0m\n\u001b[0m\u001b[1;32m     64\u001b[0m \u001b[0;34m\u001b[0m\u001b[0m\n\u001b[1;32m     65\u001b[0m             \u001b[0;31m# extra_args > 0\u001b[0m\u001b[0;34m\u001b[0m\u001b[0;34m\u001b[0m\u001b[0;34m\u001b[0m\u001b[0m\n",
      "\u001b[0;32m/opt/conda/lib/python3.7/site-packages/sklearn/model_selection/_search.py\u001b[0m in \u001b[0;36mfit\u001b[0;34m(self, X, y, groups, **fit_params)\u001b[0m\n\u001b[1;32m    878\u001b[0m             \u001b[0mrefit_start_time\u001b[0m \u001b[0;34m=\u001b[0m \u001b[0mtime\u001b[0m\u001b[0;34m.\u001b[0m\u001b[0mtime\u001b[0m\u001b[0;34m(\u001b[0m\u001b[0;34m)\u001b[0m\u001b[0;34m\u001b[0m\u001b[0;34m\u001b[0m\u001b[0m\n\u001b[1;32m    879\u001b[0m             \u001b[0;32mif\u001b[0m \u001b[0my\u001b[0m \u001b[0;32mis\u001b[0m \u001b[0;32mnot\u001b[0m \u001b[0;32mNone\u001b[0m\u001b[0;34m:\u001b[0m\u001b[0;34m\u001b[0m\u001b[0;34m\u001b[0m\u001b[0m\n\u001b[0;32m--> 880\u001b[0;31m                 \u001b[0mself\u001b[0m\u001b[0;34m.\u001b[0m\u001b[0mbest_estimator_\u001b[0m\u001b[0;34m.\u001b[0m\u001b[0mfit\u001b[0m\u001b[0;34m(\u001b[0m\u001b[0mX\u001b[0m\u001b[0;34m,\u001b[0m \u001b[0my\u001b[0m\u001b[0;34m,\u001b[0m \u001b[0;34m**\u001b[0m\u001b[0mfit_params\u001b[0m\u001b[0;34m)\u001b[0m\u001b[0;34m\u001b[0m\u001b[0;34m\u001b[0m\u001b[0m\n\u001b[0m\u001b[1;32m    881\u001b[0m             \u001b[0;32melse\u001b[0m\u001b[0;34m:\u001b[0m\u001b[0;34m\u001b[0m\u001b[0;34m\u001b[0m\u001b[0m\n\u001b[1;32m    882\u001b[0m                 \u001b[0mself\u001b[0m\u001b[0;34m.\u001b[0m\u001b[0mbest_estimator_\u001b[0m\u001b[0;34m.\u001b[0m\u001b[0mfit\u001b[0m\u001b[0;34m(\u001b[0m\u001b[0mX\u001b[0m\u001b[0;34m,\u001b[0m \u001b[0;34m**\u001b[0m\u001b[0mfit_params\u001b[0m\u001b[0;34m)\u001b[0m\u001b[0;34m\u001b[0m\u001b[0;34m\u001b[0m\u001b[0m\n",
      "\u001b[0;32m/opt/conda/lib/python3.7/site-packages/sklearn/pipeline.py\u001b[0m in \u001b[0;36mfit\u001b[0;34m(self, X, y, **fit_params)\u001b[0m\n\u001b[1;32m    339\u001b[0m         \"\"\"\n\u001b[1;32m    340\u001b[0m         \u001b[0mfit_params_steps\u001b[0m \u001b[0;34m=\u001b[0m \u001b[0mself\u001b[0m\u001b[0;34m.\u001b[0m\u001b[0m_check_fit_params\u001b[0m\u001b[0;34m(\u001b[0m\u001b[0;34m**\u001b[0m\u001b[0mfit_params\u001b[0m\u001b[0;34m)\u001b[0m\u001b[0;34m\u001b[0m\u001b[0;34m\u001b[0m\u001b[0m\n\u001b[0;32m--> 341\u001b[0;31m         \u001b[0mXt\u001b[0m \u001b[0;34m=\u001b[0m \u001b[0mself\u001b[0m\u001b[0;34m.\u001b[0m\u001b[0m_fit\u001b[0m\u001b[0;34m(\u001b[0m\u001b[0mX\u001b[0m\u001b[0;34m,\u001b[0m \u001b[0my\u001b[0m\u001b[0;34m,\u001b[0m \u001b[0;34m**\u001b[0m\u001b[0mfit_params_steps\u001b[0m\u001b[0;34m)\u001b[0m\u001b[0;34m\u001b[0m\u001b[0;34m\u001b[0m\u001b[0m\n\u001b[0m\u001b[1;32m    342\u001b[0m         with _print_elapsed_time('Pipeline',\n\u001b[1;32m    343\u001b[0m                                  self._log_message(len(self.steps) - 1)):\n",
      "\u001b[0;32m/opt/conda/lib/python3.7/site-packages/sklearn/pipeline.py\u001b[0m in \u001b[0;36m_fit\u001b[0;34m(self, X, y, **fit_params_steps)\u001b[0m\n\u001b[1;32m    305\u001b[0m                 \u001b[0mmessage_clsname\u001b[0m\u001b[0;34m=\u001b[0m\u001b[0;34m'Pipeline'\u001b[0m\u001b[0;34m,\u001b[0m\u001b[0;34m\u001b[0m\u001b[0;34m\u001b[0m\u001b[0m\n\u001b[1;32m    306\u001b[0m                 \u001b[0mmessage\u001b[0m\u001b[0;34m=\u001b[0m\u001b[0mself\u001b[0m\u001b[0;34m.\u001b[0m\u001b[0m_log_message\u001b[0m\u001b[0;34m(\u001b[0m\u001b[0mstep_idx\u001b[0m\u001b[0;34m)\u001b[0m\u001b[0;34m,\u001b[0m\u001b[0;34m\u001b[0m\u001b[0;34m\u001b[0m\u001b[0m\n\u001b[0;32m--> 307\u001b[0;31m                 **fit_params_steps[name])\n\u001b[0m\u001b[1;32m    308\u001b[0m             \u001b[0;31m# Replace the transformer of the step with the fitted\u001b[0m\u001b[0;34m\u001b[0m\u001b[0;34m\u001b[0m\u001b[0;34m\u001b[0m\u001b[0m\n\u001b[1;32m    309\u001b[0m             \u001b[0;31m# transformer. This is necessary when loading the transformer\u001b[0m\u001b[0;34m\u001b[0m\u001b[0;34m\u001b[0m\u001b[0;34m\u001b[0m\u001b[0m\n",
      "\u001b[0;32m/opt/conda/lib/python3.7/site-packages/joblib/memory.py\u001b[0m in \u001b[0;36m__call__\u001b[0;34m(self, *args, **kwargs)\u001b[0m\n\u001b[1;32m    350\u001b[0m \u001b[0;34m\u001b[0m\u001b[0m\n\u001b[1;32m    351\u001b[0m     \u001b[0;32mdef\u001b[0m \u001b[0m__call__\u001b[0m\u001b[0;34m(\u001b[0m\u001b[0mself\u001b[0m\u001b[0;34m,\u001b[0m \u001b[0;34m*\u001b[0m\u001b[0margs\u001b[0m\u001b[0;34m,\u001b[0m \u001b[0;34m**\u001b[0m\u001b[0mkwargs\u001b[0m\u001b[0;34m)\u001b[0m\u001b[0;34m:\u001b[0m\u001b[0;34m\u001b[0m\u001b[0;34m\u001b[0m\u001b[0m\n\u001b[0;32m--> 352\u001b[0;31m         \u001b[0;32mreturn\u001b[0m \u001b[0mself\u001b[0m\u001b[0;34m.\u001b[0m\u001b[0mfunc\u001b[0m\u001b[0;34m(\u001b[0m\u001b[0;34m*\u001b[0m\u001b[0margs\u001b[0m\u001b[0;34m,\u001b[0m \u001b[0;34m**\u001b[0m\u001b[0mkwargs\u001b[0m\u001b[0;34m)\u001b[0m\u001b[0;34m\u001b[0m\u001b[0;34m\u001b[0m\u001b[0m\n\u001b[0m\u001b[1;32m    353\u001b[0m \u001b[0;34m\u001b[0m\u001b[0m\n\u001b[1;32m    354\u001b[0m     \u001b[0;32mdef\u001b[0m \u001b[0mcall_and_shelve\u001b[0m\u001b[0;34m(\u001b[0m\u001b[0mself\u001b[0m\u001b[0;34m,\u001b[0m \u001b[0;34m*\u001b[0m\u001b[0margs\u001b[0m\u001b[0;34m,\u001b[0m \u001b[0;34m**\u001b[0m\u001b[0mkwargs\u001b[0m\u001b[0;34m)\u001b[0m\u001b[0;34m:\u001b[0m\u001b[0;34m\u001b[0m\u001b[0;34m\u001b[0m\u001b[0m\n",
      "\u001b[0;32m/opt/conda/lib/python3.7/site-packages/sklearn/pipeline.py\u001b[0m in \u001b[0;36m_fit_transform_one\u001b[0;34m(transformer, X, y, weight, message_clsname, message, **fit_params)\u001b[0m\n\u001b[1;32m    752\u001b[0m     \u001b[0;32mwith\u001b[0m \u001b[0m_print_elapsed_time\u001b[0m\u001b[0;34m(\u001b[0m\u001b[0mmessage_clsname\u001b[0m\u001b[0;34m,\u001b[0m \u001b[0mmessage\u001b[0m\u001b[0;34m)\u001b[0m\u001b[0;34m:\u001b[0m\u001b[0;34m\u001b[0m\u001b[0;34m\u001b[0m\u001b[0m\n\u001b[1;32m    753\u001b[0m         \u001b[0;32mif\u001b[0m \u001b[0mhasattr\u001b[0m\u001b[0;34m(\u001b[0m\u001b[0mtransformer\u001b[0m\u001b[0;34m,\u001b[0m \u001b[0;34m'fit_transform'\u001b[0m\u001b[0;34m)\u001b[0m\u001b[0;34m:\u001b[0m\u001b[0;34m\u001b[0m\u001b[0;34m\u001b[0m\u001b[0m\n\u001b[0;32m--> 754\u001b[0;31m             \u001b[0mres\u001b[0m \u001b[0;34m=\u001b[0m \u001b[0mtransformer\u001b[0m\u001b[0;34m.\u001b[0m\u001b[0mfit_transform\u001b[0m\u001b[0;34m(\u001b[0m\u001b[0mX\u001b[0m\u001b[0;34m,\u001b[0m \u001b[0my\u001b[0m\u001b[0;34m,\u001b[0m \u001b[0;34m**\u001b[0m\u001b[0mfit_params\u001b[0m\u001b[0;34m)\u001b[0m\u001b[0;34m\u001b[0m\u001b[0;34m\u001b[0m\u001b[0m\n\u001b[0m\u001b[1;32m    755\u001b[0m         \u001b[0;32melse\u001b[0m\u001b[0;34m:\u001b[0m\u001b[0;34m\u001b[0m\u001b[0;34m\u001b[0m\u001b[0m\n\u001b[1;32m    756\u001b[0m             \u001b[0mres\u001b[0m \u001b[0;34m=\u001b[0m \u001b[0mtransformer\u001b[0m\u001b[0;34m.\u001b[0m\u001b[0mfit\u001b[0m\u001b[0;34m(\u001b[0m\u001b[0mX\u001b[0m\u001b[0;34m,\u001b[0m \u001b[0my\u001b[0m\u001b[0;34m,\u001b[0m \u001b[0;34m**\u001b[0m\u001b[0mfit_params\u001b[0m\u001b[0;34m)\u001b[0m\u001b[0;34m.\u001b[0m\u001b[0mtransform\u001b[0m\u001b[0;34m(\u001b[0m\u001b[0mX\u001b[0m\u001b[0;34m)\u001b[0m\u001b[0;34m\u001b[0m\u001b[0;34m\u001b[0m\u001b[0m\n",
      "\u001b[0;32m<ipython-input-252-4e4881ab0a7e>\u001b[0m in \u001b[0;36mfit_transform\u001b[0;34m(self, raw_documents, y)\u001b[0m\n\u001b[1;32m     32\u001b[0m     \u001b[0;32mdef\u001b[0m \u001b[0mfit_transform\u001b[0m\u001b[0;34m(\u001b[0m\u001b[0mself\u001b[0m\u001b[0;34m,\u001b[0m \u001b[0mraw_documents\u001b[0m\u001b[0;34m,\u001b[0m \u001b[0my\u001b[0m\u001b[0;34m=\u001b[0m\u001b[0;32mNone\u001b[0m\u001b[0;34m)\u001b[0m\u001b[0;34m:\u001b[0m\u001b[0;34m\u001b[0m\u001b[0;34m\u001b[0m\u001b[0m\n\u001b[1;32m     33\u001b[0m         \u001b[0mself\u001b[0m\u001b[0;34m.\u001b[0m\u001b[0mfit\u001b[0m\u001b[0;34m(\u001b[0m\u001b[0mraw_documents\u001b[0m\u001b[0;34m)\u001b[0m\u001b[0;34m\u001b[0m\u001b[0;34m\u001b[0m\u001b[0m\n\u001b[0;32m---> 34\u001b[0;31m         \u001b[0;32mreturn\u001b[0m \u001b[0mself\u001b[0m\u001b[0;34m.\u001b[0m\u001b[0mtransform\u001b[0m\u001b[0;34m(\u001b[0m\u001b[0mraw_documents\u001b[0m\u001b[0;34m)\u001b[0m\u001b[0;34m\u001b[0m\u001b[0;34m\u001b[0m\u001b[0m\n\u001b[0m",
      "\u001b[0;32m<ipython-input-252-4e4881ab0a7e>\u001b[0m in \u001b[0;36mtransform\u001b[0;34m(self, raw_documents)\u001b[0m\n\u001b[1;32m     26\u001b[0m         \u001b[0mX\u001b[0m \u001b[0;34m=\u001b[0m \u001b[0;34m[\u001b[0m\u001b[0;34m]\u001b[0m\u001b[0;34m\u001b[0m\u001b[0;34m\u001b[0m\u001b[0m\n\u001b[1;32m     27\u001b[0m         \u001b[0;32mfor\u001b[0m \u001b[0mindex\u001b[0m\u001b[0;34m,\u001b[0m \u001b[0mrow\u001b[0m \u001b[0;32min\u001b[0m \u001b[0mraw_documents\u001b[0m\u001b[0;34m.\u001b[0m\u001b[0miteritems\u001b[0m\u001b[0;34m(\u001b[0m\u001b[0;34m)\u001b[0m\u001b[0;34m:\u001b[0m\u001b[0;34m\u001b[0m\u001b[0;34m\u001b[0m\u001b[0m\n\u001b[0;32m---> 28\u001b[0;31m             \u001b[0mX\u001b[0m\u001b[0;34m.\u001b[0m\u001b[0mappend\u001b[0m\u001b[0;34m(\u001b[0m\u001b[0mself\u001b[0m\u001b[0;34m.\u001b[0m\u001b[0md2v_model\u001b[0m\u001b[0;34m.\u001b[0m\u001b[0minfer_vector\u001b[0m\u001b[0;34m(\u001b[0m\u001b[0mrow\u001b[0m\u001b[0;34m)\u001b[0m\u001b[0;34m)\u001b[0m\u001b[0;34m\u001b[0m\u001b[0;34m\u001b[0m\u001b[0m\n\u001b[0m\u001b[1;32m     29\u001b[0m         \u001b[0mX\u001b[0m \u001b[0;34m=\u001b[0m \u001b[0mpd\u001b[0m\u001b[0;34m.\u001b[0m\u001b[0mDataFrame\u001b[0m\u001b[0;34m(\u001b[0m\u001b[0mX\u001b[0m\u001b[0;34m,\u001b[0m \u001b[0mindex\u001b[0m\u001b[0;34m=\u001b[0m\u001b[0mraw_documents\u001b[0m\u001b[0;34m.\u001b[0m\u001b[0mindex\u001b[0m\u001b[0;34m)\u001b[0m\u001b[0;34m\u001b[0m\u001b[0;34m\u001b[0m\u001b[0m\n\u001b[1;32m     30\u001b[0m         \u001b[0;32mreturn\u001b[0m \u001b[0mX\u001b[0m\u001b[0;34m\u001b[0m\u001b[0;34m\u001b[0m\u001b[0m\n",
      "\u001b[0;32m/opt/conda/lib/python3.7/site-packages/gensim/models/doc2vec.py\u001b[0m in \u001b[0;36minfer_vector\u001b[0;34m(self, doc_words, alpha, min_alpha, epochs, steps)\u001b[0m\n\u001b[1;32m    660\u001b[0m         \"\"\"\n\u001b[1;32m    661\u001b[0m         \u001b[0;32mif\u001b[0m \u001b[0misinstance\u001b[0m\u001b[0;34m(\u001b[0m\u001b[0mdoc_words\u001b[0m\u001b[0;34m,\u001b[0m \u001b[0mstring_types\u001b[0m\u001b[0;34m)\u001b[0m\u001b[0;34m:\u001b[0m\u001b[0;34m\u001b[0m\u001b[0;34m\u001b[0m\u001b[0m\n\u001b[0;32m--> 662\u001b[0;31m             \u001b[0;32mraise\u001b[0m \u001b[0mTypeError\u001b[0m\u001b[0;34m(\u001b[0m\u001b[0;34m\"Parameter doc_words of infer_vector() must be a list of strings (not a single string).\"\u001b[0m\u001b[0;34m)\u001b[0m\u001b[0;34m\u001b[0m\u001b[0;34m\u001b[0m\u001b[0m\n\u001b[0m\u001b[1;32m    663\u001b[0m \u001b[0;34m\u001b[0m\u001b[0m\n\u001b[1;32m    664\u001b[0m         \u001b[0malpha\u001b[0m \u001b[0;34m=\u001b[0m \u001b[0malpha\u001b[0m \u001b[0;32mor\u001b[0m \u001b[0mself\u001b[0m\u001b[0;34m.\u001b[0m\u001b[0malpha\u001b[0m\u001b[0;34m\u001b[0m\u001b[0;34m\u001b[0m\u001b[0m\n",
      "\u001b[0;31mTypeError\u001b[0m: Parameter doc_words of infer_vector() must be a list of strings (not a single string)."
     ]
    }
   ],
   "source": [
    "pipeline = Pipeline([\n",
    "    ('doc2vec', Doc2VecModel()),\n",
    "    ('clf', KMeans(init='k-means++')),\n",
    "    #('clf', OneVsRestClassifier(MultinomialNB(\n",
    "    #    fit_prior=True, class_prior=None))),\n",
    "])\n",
    "\n",
    "epochs = 10   # How many epochs to be trained\n",
    "vector_size = 500  # How many dimensions\n",
    "alpha = .025   # Initial learning rate\n",
    "min_alpha = .00025  # Learning rate changes step\n",
    "dm = 1   # Use Distributed bags of words\n",
    "\n",
    "parameters = {\n",
    "    'doc2vec__window': np.arange(2, 11, 1),\n",
    "    'doc2vec__size': np.arange(100, 1001, 100),\n",
    "    'doc2vec__dm': np.arange(1, 5, 1),\n",
    "    #'clf__estimator__alpha': (1e-2, 1e-3)\n",
    "    'clf__n_clusters': [9],\n",
    "    'clf__max_iter': [100000]\n",
    "}\n",
    "\n",
    "kmean_grid = GridSearchCV(pipeline, \n",
    "                        param_grid=parameters,\n",
    "                        scoring=\"accuracy\",\n",
    "                        verbose=4,\n",
    "                        n_jobs=8)\n",
    "\n",
    "fitted = kmean_grid.fit(X_train_data['text'], y_train)\n",
    "\n",
    "# Best parameters\n",
    "print(\"Best Parameters: {}\\n\".format(log_grid.best_params_))\n",
    "print(\"Best accuracy: {}\\n\".format(log_grid.best_score_))\n",
    "print(\"Finished.\")"
   ]
  },
  {
   "cell_type": "code",
   "execution_count": null,
   "metadata": {},
   "outputs": [],
   "source": []
  }
 ],
 "metadata": {
  "environment": {
   "name": "tf2-gpu.2-3.mnightly-2021-02-02-debian-10-test",
   "type": "gcloud",
   "uri": "gcr.io/deeplearning-platform-release/tf2-gpu.2-3:mnightly-2021-02-02-debian-10-test"
  },
  "kernelspec": {
   "display_name": "Python 3",
   "language": "python",
   "name": "python3"
  },
  "language_info": {
   "codemirror_mode": {
    "name": "ipython",
    "version": 3
   },
   "file_extension": ".py",
   "mimetype": "text/x-python",
   "name": "python",
   "nbconvert_exporter": "python",
   "pygments_lexer": "ipython3",
   "version": "3.7.9"
  }
 },
 "nbformat": 4,
 "nbformat_minor": 4
}
